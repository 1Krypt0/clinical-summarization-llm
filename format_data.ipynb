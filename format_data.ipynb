{
 "cells": [
  {
   "cell_type": "markdown",
   "metadata": {},
   "source": [
    "# Data Formatting\n",
    "\n",
    "This notebook formats the data into a more workable format. Each row in the data represents a single admission. In the notes column, we have all the notes related to said admission, minus the discharge summary. This goes into the summary column. The new format makes it much simpler to work with the data, and for models to interact with it, as the notes are presented as a single blob of text.\n"
   ]
  },
  {
   "cell_type": "code",
   "execution_count": null,
   "metadata": {},
   "outputs": [],
   "source": [
    "import pandas as pd"
   ]
  },
  {
   "cell_type": "code",
   "execution_count": null,
   "metadata": {},
   "outputs": [],
   "source": [
    "train_data = pd.read_csv(\"./data/single-discharge-8k-train.csv\")\n",
    "test_data = pd.read_csv(\"./data/single-discharge-8k-test.csv\")"
   ]
  },
  {
   "cell_type": "code",
   "execution_count": null,
   "metadata": {},
   "outputs": [],
   "source": [
    "admissions_train = train_data[\"HADM_ID\"].unique()\n",
    "admissions_test = test_data[\"HADM_ID\"].unique()\n",
    "\n",
    "formatted_data_train = {}\n",
    "\n",
    "total = 0\n",
    "\n",
    "for admission in admissions_train:\n",
    "    total += 1\n",
    "    notes = train_data[train_data[\"HADM_ID\"] == admission]\n",
    "    notes = (\n",
    "        notes[notes[\"CATEGORY\"] != \"Discharge summary\"]\n",
    "        .sort_values([\"CHARTDATE\", \"CHARTTIME\"])[\"TEXT\"]\n",
    "        .tolist()\n",
    "    )\n",
    "    notes = \"\\n\".join(notes)\n",
    "    summary = train_data[train_data[\"HADM_ID\"] == admission]\n",
    "    summary = summary[summary[\"CATEGORY\"] == \"Discharge summary\"][\"TEXT\"].iloc[0]\n",
    "    formatted_data_train[admission] = {\"notes\": notes, \"summary\": summary}\n",
    "\n",
    "    if total % 1000 == 0:\n",
    "        print(f\"Reviewed {total} admissions\")\n",
    "\n",
    "print(\"Train data formatted\")\n",
    "\n",
    "formatted_data_test = {}\n",
    "\n",
    "for admission in admissions_test:\n",
    "    notes = test_data[test_data[\"HADM_ID\"] == admission]\n",
    "    notes = (\n",
    "        notes[notes[\"CATEGORY\"] != \"Discharge summary\"]\n",
    "        .sort_values([\"CHARTDATE\", \"CHARTTIME\"])[\"TEXT\"]\n",
    "        .tolist()\n",
    "    )\n",
    "    notes = \"\\n\".join(notes)\n",
    "    summary = test_data[test_data[\"HADM_ID\"] == admission]\n",
    "    summary = summary[summary[\"CATEGORY\"] == \"Discharge summary\"][\"TEXT\"].iloc[0]\n",
    "    formatted_data_test[admission] = {\"notes\": notes, \"summary\": summary}\n",
    "\n",
    "print(\"Test data formatted\")\n",
    "\n",
    "train_data_formatted = pd.DataFrame.from_dict(formatted_data_train, orient=\"index\")\n",
    "test_data_formatted = pd.DataFrame.from_dict(formatted_data_test, orient=\"index\")"
   ]
  },
  {
   "cell_type": "code",
   "execution_count": null,
   "metadata": {},
   "outputs": [],
   "source": [
    "# Rename index to admission\n",
    "\n",
    "train_data_formatted.index.name = \"admission\"\n",
    "test_data_formatted.index.name = \"admission\""
   ]
  },
  {
   "cell_type": "code",
   "execution_count": null,
   "metadata": {},
   "outputs": [],
   "source": [
    "train_data_formatted.to_csv(\"./data/single-discharge-8k-train-formatted.csv\")\n",
    "test_data_formatted.to_csv(\"./data/single-discharge-8k-test-formatted.csv\")"
   ]
  }
 ],
 "metadata": {
  "kernelspec": {
   "display_name": "Python 3",
   "language": "python",
   "name": "python3"
  },
  "language_info": {
   "codemirror_mode": {
    "name": "ipython",
    "version": 3
   },
   "file_extension": ".py",
   "mimetype": "text/x-python",
   "name": "python",
   "nbconvert_exporter": "python",
   "pygments_lexer": "ipython3",
   "version": "3.12.3"
  }
 },
 "nbformat": 4,
 "nbformat_minor": 2
}
