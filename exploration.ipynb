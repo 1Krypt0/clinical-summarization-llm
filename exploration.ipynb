{
 "cells": [
  {
   "cell_type": "markdown",
   "metadata": {},
   "source": [
    "# Dataset Exploration\n",
    "\n",
    "This notebook is split into 3 main parts, related to 3 main stages of development\n",
    "\n",
    "1. General Data Exploration - The initial part was dedicated to gain an overall understanding of the data and how it is structured.\n",
    "2. Common Headers - The second part was written to extract the most common headers, so zero-shot models can have a structure to work with.\n",
    "3. Additional Constrains - As the dataset was giving Out Of Memory errors, I had to reduce the dataset to a smaller size, and this part was written to figure out a cutoff point that would be reasonable.\n"
   ]
  },
  {
   "cell_type": "markdown",
   "metadata": {},
   "source": [
    "### Part 1 - General Data Exploration\n"
   ]
  },
  {
   "cell_type": "code",
   "execution_count": null,
   "metadata": {},
   "outputs": [],
   "source": [
    "import pandas as pd"
   ]
  },
  {
   "cell_type": "code",
   "execution_count": null,
   "metadata": {},
   "outputs": [],
   "source": [
    "data = pd.read_csv(\"./data/NOTEEVENTS.csv\")"
   ]
  },
  {
   "cell_type": "code",
   "execution_count": null,
   "metadata": {},
   "outputs": [],
   "source": [
    "categories = data.groupby(\"CATEGORY\").size().reset_index().rename(columns={0: \"count\"})\n",
    "categories"
   ]
  },
  {
   "cell_type": "code",
   "execution_count": null,
   "metadata": {},
   "outputs": [],
   "source": [
    "discharge_summaries = data[data[\"CATEGORY\"] == \"Discharge summary\"]\n",
    "discharge_summaries = discharge_summaries[\n",
    "    discharge_summaries[\"DESCRIPTION\"] == \"Report\"\n",
    "]\n",
    "discharge_summaries = discharge_summaries[\n",
    "    discharge_summaries[\"TEXT\"].map(len) < 16000\n",
    "]  # 16000 is the approximately the context window for GPT-3.5\n",
    "\n",
    "discharge_summaries[\"TEXT\"].map(len).hist(bins=100)\n",
    "sample = discharge_summaries[discharge_summaries[\"TEXT\"].map(len) == 5000]\n",
    "\n",
    "# Using print to format the output\n",
    "print(sample.iloc[0][\"TEXT\"])"
   ]
  },
  {
   "cell_type": "code",
   "execution_count": null,
   "metadata": {},
   "outputs": [],
   "source": [
    "random_patient = data.sample()[\"SUBJECT_ID\"]\n",
    "random_patient = 99082  # Fix a patient for reproducibility\n",
    "\n",
    "notes = data[data[\"SUBJECT_ID\"] == random_patient]\n",
    "notes"
   ]
  },
  {
   "cell_type": "code",
   "execution_count": null,
   "metadata": {},
   "outputs": [],
   "source": [
    "summary = notes[notes[\"CATEGORY\"] == \"Discharge summary\"]\n",
    "print(summary.iloc[0][\"TEXT\"])"
   ]
  },
  {
   "cell_type": "markdown",
   "metadata": {},
   "source": [
    "### Part 2 - Common Headers\n"
   ]
  },
  {
   "cell_type": "code",
   "execution_count": null,
   "metadata": {},
   "outputs": [],
   "source": [
    "# Figure out what the most common headings are in the discharge summaries\n",
    "data = pd.read_csv(\"./data/single-discharge-8k.csv\")\n",
    "data = data[data[\"CATEGORY\"] == \"Discharge summary\"]"
   ]
  },
  {
   "cell_type": "code",
   "execution_count": null,
   "metadata": {},
   "outputs": [],
   "source": [
    "import re\n",
    "\n",
    "headings = {}\n",
    "\n",
    "regex = r\"^.+:\\s\"\n",
    "\n",
    "regex = re.compile(regex, re.MULTILINE)\n",
    "\n",
    "for text in data[\"TEXT\"]:\n",
    "    text = text.lower()\n",
    "    matches = regex.findall(text)\n",
    "    for match in matches:\n",
    "        match = re.sub(r\":\\s\", \":\", match)\n",
    "        if match not in headings:\n",
    "            headings[match] = 0\n",
    "        headings[match] += 1\n",
    "\n",
    "headings, len(headings)"
   ]
  },
  {
   "cell_type": "code",
   "execution_count": null,
   "metadata": {},
   "outputs": [],
   "source": [
    "# Sort by the most common headings and show the top 20\n",
    "\n",
    "sorted_headings = sorted(headings.items(), key=lambda x: x[1], reverse=True)\n",
    "\n",
    "# We eliminate the first because it is standard to all discharge summaries\n",
    "sorted_headings[1:20]"
   ]
  },
  {
   "cell_type": "markdown",
   "metadata": {},
   "source": [
    "### Part 3 - Additional Constrains\n"
   ]
  },
  {
   "cell_type": "code",
   "execution_count": null,
   "metadata": {},
   "outputs": [],
   "source": [
    "data = pd.read_csv(\"./data/single-discharge-8k-test-formatted.csv\")"
   ]
  },
  {
   "cell_type": "code",
   "execution_count": null,
   "metadata": {},
   "outputs": [],
   "source": [
    "# Get the sizes of the notes\n",
    "\n",
    "data[\"notes\"].map(len).hist(bins=100)"
   ]
  },
  {
   "cell_type": "code",
   "execution_count": null,
   "metadata": {},
   "outputs": [],
   "source": [
    "from transformers import AutoTokenizer\n",
    "\n",
    "tokenizer = AutoTokenizer.from_pretrained(\n",
    "    \"google/gemma-1.1-7b-it\",\n",
    "    padding_side=\"left\",\n",
    "    add_eos_token=True,\n",
    "    add_bos_token=True,\n",
    ")"
   ]
  },
  {
   "cell_type": "code",
   "execution_count": null,
   "metadata": {},
   "outputs": [],
   "source": [
    "DEFAULT_SYSTEM_PROMPT = \"\"\"\n",
    "You are an expert clinical assistant. You will receive a collection of clinical notes. You will summarize them in the style of a discharge summary.\n",
    "\"\"\".strip()\n",
    "\n",
    "\n",
    "def generate_testing_prompt_gemma(\n",
    "    notes: str, system_prompt: str = DEFAULT_SYSTEM_PROMPT\n",
    ") -> str:\n",
    "    return f\"\"\"<start_of_turn>user {system_prompt}\n",
    "\n",
    "### Input:\n",
    "\n",
    "{notes.strip()}\n",
    "\n",
    "<end_of_turn>\n",
    "<start_of_turn>model\n",
    "\"\"\".strip()\n",
    "\n",
    "\n",
    "tokens = data[\"notes\"].map(generate_testing_prompt_gemma)\n",
    "tokens = tokens.map(tokenizer.tokenize)"
   ]
  },
  {
   "cell_type": "code",
   "execution_count": null,
   "metadata": {},
   "outputs": [],
   "source": [
    "biggest = tokens.map(len).idxmax()\n",
    "len(tokens[biggest])"
   ]
  }
 ],
 "metadata": {
  "kernelspec": {
   "display_name": "Python 3",
   "language": "python",
   "name": "python3"
  },
  "language_info": {
   "codemirror_mode": {
    "name": "ipython",
    "version": 3
   },
   "file_extension": ".py",
   "mimetype": "text/x-python",
   "name": "python",
   "nbconvert_exporter": "python",
   "pygments_lexer": "ipython3",
   "version": "3.12.3"
  }
 },
 "nbformat": 4,
 "nbformat_minor": 2
}
